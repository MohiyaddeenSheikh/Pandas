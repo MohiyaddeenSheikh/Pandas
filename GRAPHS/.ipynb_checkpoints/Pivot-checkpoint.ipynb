{
 "cells": [
  {
   "cell_type": "markdown",
   "id": "8acc936f-0ff9-4d14-87ee-b586098ccde8",
   "metadata": {},
   "source": [
    "<div align=\"center\">\n",
    "<span style=\"color: red; font-size: 28px; font-weight: bold; text-shadow: 2px 2px 4px #888888;\">\n",
    "PIVOT Table in Pandas\n",
    "</span>\n",
    "</div>"
   ]
  },
  {
   "cell_type": "code",
   "execution_count": 47,
   "id": "1ac6e514-6075-47b4-aa2b-7e80b78d9e09",
   "metadata": {},
   "outputs": [
    {
     "data": {
      "text/html": [
       "<div>\n",
       "<style scoped>\n",
       "    .dataframe tbody tr th:only-of-type {\n",
       "        vertical-align: middle;\n",
       "    }\n",
       "\n",
       "    .dataframe tbody tr th {\n",
       "        vertical-align: top;\n",
       "    }\n",
       "\n",
       "    .dataframe thead th {\n",
       "        text-align: right;\n",
       "    }\n",
       "</style>\n",
       "<table border=\"1\" class=\"dataframe\">\n",
       "  <thead>\n",
       "    <tr style=\"text-align: right;\">\n",
       "      <th>Ship Mode</th>\n",
       "      <th>Delivery Truck</th>\n",
       "      <th>Express Air</th>\n",
       "      <th>Regular Air</th>\n",
       "    </tr>\n",
       "    <tr>\n",
       "      <th>Region</th>\n",
       "      <th></th>\n",
       "      <th></th>\n",
       "      <th></th>\n",
       "    </tr>\n",
       "  </thead>\n",
       "  <tbody>\n",
       "    <tr>\n",
       "      <th>Prarie</th>\n",
       "      <td>88285.67</td>\n",
       "      <td>27239.36</td>\n",
       "      <td>205635.09</td>\n",
       "    </tr>\n",
       "    <tr>\n",
       "      <th>West</th>\n",
       "      <td>57042.23</td>\n",
       "      <td>51027.18</td>\n",
       "      <td>188939.20</td>\n",
       "    </tr>\n",
       "    <tr>\n",
       "      <th>Atlantic</th>\n",
       "      <td>54205.85</td>\n",
       "      <td>22819.22</td>\n",
       "      <td>161935.59</td>\n",
       "    </tr>\n",
       "    <tr>\n",
       "      <th>Ontario</th>\n",
       "      <td>44243.58</td>\n",
       "      <td>24467.18</td>\n",
       "      <td>278157.78</td>\n",
       "    </tr>\n",
       "    <tr>\n",
       "      <th>Quebec</th>\n",
       "      <td>20118.48</td>\n",
       "      <td>14676.29</td>\n",
       "      <td>105631.88</td>\n",
       "    </tr>\n",
       "    <tr>\n",
       "      <th>Yukon</th>\n",
       "      <td>5643.33</td>\n",
       "      <td>6519.67</td>\n",
       "      <td>61686.21</td>\n",
       "    </tr>\n",
       "    <tr>\n",
       "      <th>Nunavut</th>\n",
       "      <td>1482.94</td>\n",
       "      <td>-418.72</td>\n",
       "      <td>1776.89</td>\n",
       "    </tr>\n",
       "    <tr>\n",
       "      <th>Northwest Territories</th>\n",
       "      <td>-1377.21</td>\n",
       "      <td>1100.13</td>\n",
       "      <td>100930.16</td>\n",
       "    </tr>\n",
       "  </tbody>\n",
       "</table>\n",
       "</div>"
      ],
      "text/plain": [
       "Ship Mode              Delivery Truck  Express Air  Regular Air\n",
       "Region                                                         \n",
       "Prarie                       88285.67     27239.36    205635.09\n",
       "West                         57042.23     51027.18    188939.20\n",
       "Atlantic                     54205.85     22819.22    161935.59\n",
       "Ontario                      44243.58     24467.18    278157.78\n",
       "Quebec                       20118.48     14676.29    105631.88\n",
       "Yukon                         5643.33      6519.67     61686.21\n",
       "Nunavut                       1482.94      -418.72      1776.89\n",
       "Northwest Territories        -1377.21      1100.13    100930.16"
      ]
     },
     "execution_count": 47,
     "metadata": {},
     "output_type": "execute_result"
    }
   ],
   "source": [
    "import pandas as pd\n",
    "df = pd.read_csv('Documents/JUPYTER/PROJECTS/GRAPHS/Superstore-Sales.csv',encoding= 'latin1')\n",
    "pivot = df.pivot_table(\n",
    "            index = 'Region',\n",
    "            columns = 'Ship Mode',\n",
    "            values = 'Profit',\n",
    "            aggfunc = 'sum')\n",
    "\n",
    "pivot.sort_values(by=['Delivery Truck','Express Air','Regular Air'], ascending=False)\n",
    "\n"
   ]
  },
  {
   "cell_type": "code",
   "execution_count": 49,
   "id": "79751473-0f08-42c1-9a85-664f8248f2be",
   "metadata": {},
   "outputs": [
    {
     "data": {
      "text/plain": [
       "'C:\\\\Users\\\\mohiy'"
      ]
     },
     "execution_count": 49,
     "metadata": {},
     "output_type": "execute_result"
    }
   ],
   "source": [
    "import os\n",
    "os.getcwd()"
   ]
  },
  {
   "cell_type": "code",
   "execution_count": null,
   "id": "24b67fda-f30a-493f-8f2e-cb3261aa1900",
   "metadata": {},
   "outputs": [],
   "source": []
  }
 ],
 "metadata": {
  "kernelspec": {
   "display_name": "Python 3 (ipykernel)",
   "language": "python",
   "name": "python3"
  },
  "language_info": {
   "codemirror_mode": {
    "name": "ipython",
    "version": 3
   },
   "file_extension": ".py",
   "mimetype": "text/x-python",
   "name": "python",
   "nbconvert_exporter": "python",
   "pygments_lexer": "ipython3",
   "version": "3.11.5"
  }
 },
 "nbformat": 4,
 "nbformat_minor": 5
}
