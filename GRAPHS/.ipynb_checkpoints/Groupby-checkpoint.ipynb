{
 "cells": [
  {
   "cell_type": "markdown",
   "id": "33f6127c-30ec-41eb-9635-aa6e36f0f585",
   "metadata": {},
   "source": [
    "<div align=\"center\">\n",
    "<span style=\"color: red; font-size: 28px; font-weight: bold; text-shadow: 2px 2px 4px #888888;\">\n",
    "Group By in Pandas\n",
    "</span>\n",
    "</div>"
   ]
  },
  {
   "cell_type": "code",
   "execution_count": 6,
   "id": "2b1c4744-4962-40e5-995f-905af535d58e",
   "metadata": {},
   "outputs": [
    {
     "data": {
      "text/html": [
       "<div>\n",
       "<style scoped>\n",
       "    .dataframe tbody tr th:only-of-type {\n",
       "        vertical-align: middle;\n",
       "    }\n",
       "\n",
       "    .dataframe tbody tr th {\n",
       "        vertical-align: top;\n",
       "    }\n",
       "\n",
       "    .dataframe thead th {\n",
       "        text-align: right;\n",
       "    }\n",
       "</style>\n",
       "<table border=\"1\" class=\"dataframe\">\n",
       "  <thead>\n",
       "    <tr style=\"text-align: right;\">\n",
       "      <th></th>\n",
       "      <th>Economy</th>\n",
       "      <th>Health</th>\n",
       "    </tr>\n",
       "    <tr>\n",
       "      <th>Region</th>\n",
       "      <th></th>\n",
       "      <th></th>\n",
       "    </tr>\n",
       "  </thead>\n",
       "  <tbody>\n",
       "    <tr>\n",
       "      <th>Africa</th>\n",
       "      <td>24.636956</td>\n",
       "      <td>11.634739</td>\n",
       "    </tr>\n",
       "    <tr>\n",
       "      <th>Asia-Pacific</th>\n",
       "      <td>45.548692</td>\n",
       "      <td>26.170008</td>\n",
       "    </tr>\n",
       "    <tr>\n",
       "      <th>Eastern Europe</th>\n",
       "      <td>26.086963</td>\n",
       "      <td>15.153235</td>\n",
       "    </tr>\n",
       "    <tr>\n",
       "      <th>Europe</th>\n",
       "      <td>0.894652</td>\n",
       "      <td>0.575904</td>\n",
       "    </tr>\n",
       "    <tr>\n",
       "      <th>Latin America</th>\n",
       "      <td>22.153578</td>\n",
       "      <td>13.442202</td>\n",
       "    </tr>\n",
       "    <tr>\n",
       "      <th>North America</th>\n",
       "      <td>3.025464</td>\n",
       "      <td>1.608844</td>\n",
       "    </tr>\n",
       "    <tr>\n",
       "      <th>Western Europe</th>\n",
       "      <td>27.965974</td>\n",
       "      <td>15.583026</td>\n",
       "    </tr>\n",
       "  </tbody>\n",
       "</table>\n",
       "</div>"
      ],
      "text/plain": [
       "                  Economy     Health\n",
       "Region                              \n",
       "Africa          24.636956  11.634739\n",
       "Asia-Pacific    45.548692  26.170008\n",
       "Eastern Europe  26.086963  15.153235\n",
       "Europe           0.894652   0.575904\n",
       "Latin America   22.153578  13.442202\n",
       "North America    3.025464   1.608844\n",
       "Western Europe  27.965974  15.583026"
      ]
     },
     "execution_count": 6,
     "metadata": {},
     "output_type": "execute_result"
    }
   ],
   "source": [
    "import pandas as pd\n",
    "\n",
    "# Load the dataset\n",
    "url = \"https://raw.githubusercontent.com/PhilippeCodes/World-Happiness-Report-Data-Analysis/master/World%20Happiness%20Report.csv\"\n",
    "df = pd.read_csv(url)\n",
    "\n",
    "#group by Region and select column then sum column based on region\n",
    "df.groupby('Region')[['Economy','Health']].sum()\n"
   ]
  },
  {
   "cell_type": "markdown",
   "id": "7d6be8a0-8099-48b4-95f1-ef9451657142",
   "metadata": {},
   "source": [
    "<div align=\"center\">\n",
    "<span style=\"color: green; font-size: 18px; font-weight: bold; text-shadow: 1px 1px 2px #888888;\">\n",
    "📘 Explanation\n",
    "</span>\n",
    "</div>\n",
    "\n",
    "#### 1️⃣ `df.groupby('Region')`\n",
    "- Groups the entire DataFrame by the values in the `'Region'` column.\n",
    "\n",
    "#### 2️⃣ `[[\"Economy\", \"Health\"]]`\n",
    "- Selects only the **'Economy'** and **'Health'** columns **from each group**.\n",
    "- \n",
    "#### 3️⃣ `.sum()`\n",
    "- Sums the values of `'Economy'` and `'Health'` for each region.\n"
   ]
  },
  {
   "cell_type": "code",
   "execution_count": null,
   "id": "9772fef0-051e-4a23-8cd7-c65afa1d96da",
   "metadata": {},
   "outputs": [],
   "source": []
  }
 ],
 "metadata": {
  "kernelspec": {
   "display_name": "Python 3 (ipykernel)",
   "language": "python",
   "name": "python3"
  },
  "language_info": {
   "codemirror_mode": {
    "name": "ipython",
    "version": 3
   },
   "file_extension": ".py",
   "mimetype": "text/x-python",
   "name": "python",
   "nbconvert_exporter": "python",
   "pygments_lexer": "ipython3",
   "version": "3.11.5"
  }
 },
 "nbformat": 4,
 "nbformat_minor": 5
}
