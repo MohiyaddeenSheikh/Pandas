{
 "cells": [
  {
   "cell_type": "code",
   "execution_count": 9,
   "id": "02b1c13c-8d44-4c33-82b4-c66aeb88bb69",
   "metadata": {},
   "outputs": [
    {
     "data": {
      "text/html": [
       "<div>\n",
       "<style scoped>\n",
       "    .dataframe tbody tr th:only-of-type {\n",
       "        vertical-align: middle;\n",
       "    }\n",
       "\n",
       "    .dataframe tbody tr th {\n",
       "        vertical-align: top;\n",
       "    }\n",
       "\n",
       "    .dataframe thead th {\n",
       "        text-align: right;\n",
       "    }\n",
       "</style>\n",
       "<table border=\"1\" class=\"dataframe\">\n",
       "  <thead>\n",
       "    <tr style=\"text-align: right;\">\n",
       "      <th></th>\n",
       "      <th>Sales</th>\n",
       "      <th>Discount</th>\n",
       "      <th>Profit</th>\n",
       "      <th>Shipping Cost</th>\n",
       "      <th>Unit Price</th>\n",
       "    </tr>\n",
       "  </thead>\n",
       "  <tbody>\n",
       "    <tr>\n",
       "      <th>Sales</th>\n",
       "      <td>1.000000</td>\n",
       "      <td>-0.019686</td>\n",
       "      <td>0.581960</td>\n",
       "      <td>0.434578</td>\n",
       "      <td>0.602521</td>\n",
       "    </tr>\n",
       "    <tr>\n",
       "      <th>Discount</th>\n",
       "      <td>-0.019686</td>\n",
       "      <td>1.000000</td>\n",
       "      <td>-0.037128</td>\n",
       "      <td>-0.001956</td>\n",
       "      <td>0.001332</td>\n",
       "    </tr>\n",
       "    <tr>\n",
       "      <th>Profit</th>\n",
       "      <td>0.581960</td>\n",
       "      <td>-0.037128</td>\n",
       "      <td>1.000000</td>\n",
       "      <td>-0.021362</td>\n",
       "      <td>-0.008854</td>\n",
       "    </tr>\n",
       "    <tr>\n",
       "      <th>Shipping Cost</th>\n",
       "      <td>0.434578</td>\n",
       "      <td>-0.001956</td>\n",
       "      <td>-0.021362</td>\n",
       "      <td>1.000000</td>\n",
       "      <td>0.239959</td>\n",
       "    </tr>\n",
       "    <tr>\n",
       "      <th>Unit Price</th>\n",
       "      <td>0.602521</td>\n",
       "      <td>0.001332</td>\n",
       "      <td>-0.008854</td>\n",
       "      <td>0.239959</td>\n",
       "      <td>1.000000</td>\n",
       "    </tr>\n",
       "  </tbody>\n",
       "</table>\n",
       "</div>"
      ],
      "text/plain": [
       "                  Sales  Discount    Profit  Shipping Cost  Unit Price\n",
       "Sales          1.000000 -0.019686  0.581960       0.434578    0.602521\n",
       "Discount      -0.019686  1.000000 -0.037128      -0.001956    0.001332\n",
       "Profit         0.581960 -0.037128  1.000000      -0.021362   -0.008854\n",
       "Shipping Cost  0.434578 -0.001956 -0.021362       1.000000    0.239959\n",
       "Unit Price     0.602521  0.001332 -0.008854       0.239959    1.000000"
      ]
     },
     "execution_count": 9,
     "metadata": {},
     "output_type": "execute_result"
    }
   ],
   "source": [
    "import pandas as pd\n",
    "df = pd.read_csv(\"./Database/Superstore-Sales.csv\",encoding = \"latin1\")\n",
    "numeric_col = df[['Sales','Discount','Profit','Shipping Cost','Unit Price']]\n",
    "df_corr = numeric_col.corr()"
   ]
  },
  {
   "cell_type": "code",
   "execution_count": 13,
   "id": "ab0532be-bcd2-4ea2-961d-82dc1edb6327",
   "metadata": {},
   "outputs": [
    {
     "ename": "NameError",
     "evalue": "name 'figsize' is not defined",
     "output_type": "error",
     "traceback": [
      "\u001b[1;31m---------------------------------------------------------------------------\u001b[0m",
      "\u001b[1;31mNameError\u001b[0m                                 Traceback (most recent call last)",
      "Cell \u001b[1;32mIn[13], line 3\u001b[0m\n\u001b[0;32m      1\u001b[0m \u001b[38;5;28;01mimport\u001b[39;00m \u001b[38;5;21;01mmatplotlib\u001b[39;00m\u001b[38;5;21;01m.\u001b[39;00m\u001b[38;5;21;01mpyplot\u001b[39;00m \u001b[38;5;28;01mas\u001b[39;00m \u001b[38;5;21;01mplt\u001b[39;00m\n\u001b[0;32m      2\u001b[0m \u001b[38;5;28;01mimport\u001b[39;00m \u001b[38;5;21;01mseaborn\u001b[39;00m \u001b[38;5;28;01mas\u001b[39;00m \u001b[38;5;21;01msns\u001b[39;00m\n\u001b[1;32m----> 3\u001b[0m fig \u001b[38;5;241m=\u001b[39m plt\u001b[38;5;241m.\u001b[39mfigure(\u001b[43mfigsize\u001b[49m(\u001b[38;5;241m15\u001b[39m,\u001b[38;5;241m4\u001b[39m))\n\u001b[0;32m      4\u001b[0m gs \u001b[38;5;241m=\u001b[39m fig\u001b[38;5;241m.\u001b[39madd_gridspec(\u001b[38;5;241m1\u001b[39m,\u001b[38;5;241m2\u001b[39m)\n\u001b[0;32m      6\u001b[0m sns\u001b[38;5;241m.\u001b[39mheatmap(\n\u001b[0;32m      7\u001b[0m             ax \u001b[38;5;241m=\u001b[39m fig\u001b[38;5;241m.\u001b[39madd_subplot(gs[\u001b[38;5;241m0\u001b[39m,\u001b[38;5;241m0\u001b[39m]),\n\u001b[0;32m      8\u001b[0m             data \u001b[38;5;241m=\u001b[39m df_corr\n\u001b[0;32m      9\u001b[0m )\n",
      "\u001b[1;31mNameError\u001b[0m: name 'figsize' is not defined"
     ]
    }
   ],
   "source": [
    "import matplotlib.pyplot as plt\n",
    "import seaborn as sns\n",
    "fig = plt.figure(figsize=(18, 4))\n",
    "gs = fig.add_gridspec(1,2)\n",
    "\n",
    "sns.heatmap(\n",
    "            ax = fig.add_subplot(gs[0,0]),\n",
    "            data = df_corr\n",
    ")"
   ]
  },
  {
   "cell_type": "code",
   "execution_count": null,
   "id": "c4e4f09a-fab3-4251-af30-de5c9133e44a",
   "metadata": {},
   "outputs": [],
   "source": []
  }
 ],
 "metadata": {
  "kernelspec": {
   "display_name": "Python 3 (ipykernel)",
   "language": "python",
   "name": "python3"
  },
  "language_info": {
   "codemirror_mode": {
    "name": "ipython",
    "version": 3
   },
   "file_extension": ".py",
   "mimetype": "text/x-python",
   "name": "python",
   "nbconvert_exporter": "python",
   "pygments_lexer": "ipython3",
   "version": "3.11.5"
  }
 },
 "nbformat": 4,
 "nbformat_minor": 5
}
